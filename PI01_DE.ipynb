{
 "cells": [
  {
   "attachments": {},
   "cell_type": "markdown",
   "metadata": {},
   "source": [
    "# Loading the datasets"
   ]
  },
  {
   "cell_type": "code",
   "execution_count": 112,
   "metadata": {},
   "outputs": [],
   "source": [
    "# Importing the required libraries\n",
    "import pandas as pd\n",
    "import re\n",
    "import os\n",
    "from ETL_Functions.etl_functions import load_csv, etl, concat_df"
   ]
  },
  {
   "cell_type": "code",
   "execution_count": 113,
   "metadata": {},
   "outputs": [],
   "source": [
    "# Get the list of all files in a common directory\n",
    "path = '../PI01-Data-Engineering/Datasets/'\n",
    "dir_list = os.listdir(path)"
   ]
  },
  {
   "cell_type": "code",
   "execution_count": 114,
   "metadata": {},
   "outputs": [
    {
     "name": "stdout",
     "output_type": "stream",
     "text": [
      "Files stored in ../PI01-Data-Engineering/Datasets/:\n",
      "README.md\n",
      "disney_plus_titles-score.csv\n",
      "amazon_prime_titles-score.csv\n",
      "netflix_titles-score.csv\n",
      "hulu_titles-score (2).csv\n"
     ]
    }
   ],
   "source": [
    "print(f'Files stored in {path}:')\n",
    "for files in dir_list:  # print all files\n",
    "    print(files)"
   ]
  },
  {
   "cell_type": "code",
   "execution_count": 115,
   "metadata": {},
   "outputs": [
    {
     "name": "stdout",
     "output_type": "stream",
     "text": [
      "Succesfull load of disney_plus_titles-score.csv\n",
      "Succesfull load of amazon_prime_titles-score.csv\n",
      "Succesfull load of netflix_titles-score.csv\n",
      "Succesfull load of hulu_titles-score (2).csv\n"
     ]
    }
   ],
   "source": [
    "# Load the csv files\n",
    "for file in dir_list:\n",
    "    if re.search(r'.csv', file):\n",
    "        load_csv(path, file)"
   ]
  },
  {
   "attachments": {},
   "cell_type": "markdown",
   "metadata": {},
   "source": [
    "# Transform phase\n",
    "\n",
    "## 1.- ETL Process"
   ]
  },
  {
   "cell_type": "code",
   "execution_count": 116,
   "metadata": {},
   "outputs": [],
   "source": [
    "# Transform phase\n",
    "path_ETL = '../PI01-Data-Engineering/Datasets_for_ETL/'\n",
    "dir_list_ETL = os.listdir(path_ETL)"
   ]
  },
  {
   "cell_type": "code",
   "execution_count": 117,
   "metadata": {},
   "outputs": [
    {
     "name": "stdout",
     "output_type": "stream",
     "text": [
      "Files stored in ../PI01-Data-Engineering/Datasets_for_ETL/:\n",
      "df_amazon_prime_titles-score.csv\n",
      "df_hulu_titles-score (2).csv\n",
      "df_netflix_titles-score.csv\n",
      "df_disney_plus_titles-score.csv\n"
     ]
    }
   ],
   "source": [
    "print(f'Files stored in {path_ETL}:')\n",
    "for files_etl in dir_list_ETL:  # print all files\n",
    "    print(files_etl)"
   ]
  },
  {
   "cell_type": "code",
   "execution_count": 118,
   "metadata": {},
   "outputs": [],
   "source": [
    "etl(path_ETL, files_etl)"
   ]
  },
  {
   "cell_type": "code",
   "execution_count": 119,
   "metadata": {},
   "outputs": [],
   "source": [
    "amazon = pd.read_csv('../PI01-Data-Engineering/PI_01/amazon.csv')"
   ]
  },
  {
   "cell_type": "code",
   "execution_count": 120,
   "metadata": {},
   "outputs": [
    {
     "data": {
      "text/html": [
       "<div>\n",
       "<style scoped>\n",
       "    .dataframe tbody tr th:only-of-type {\n",
       "        vertical-align: middle;\n",
       "    }\n",
       "\n",
       "    .dataframe tbody tr th {\n",
       "        vertical-align: top;\n",
       "    }\n",
       "\n",
       "    .dataframe thead th {\n",
       "        text-align: right;\n",
       "    }\n",
       "</style>\n",
       "<table border=\"1\" class=\"dataframe\">\n",
       "  <thead>\n",
       "    <tr style=\"text-align: right;\">\n",
       "      <th></th>\n",
       "      <th>show_id</th>\n",
       "      <th>type</th>\n",
       "      <th>title</th>\n",
       "      <th>director</th>\n",
       "      <th>cast</th>\n",
       "      <th>country</th>\n",
       "      <th>date_added</th>\n",
       "      <th>release_year</th>\n",
       "      <th>rating</th>\n",
       "      <th>duration</th>\n",
       "      <th>listed_in</th>\n",
       "      <th>description</th>\n",
       "      <th>score</th>\n",
       "      <th>id</th>\n",
       "      <th>date</th>\n",
       "      <th>duration_int</th>\n",
       "      <th>duration_type</th>\n",
       "    </tr>\n",
       "  </thead>\n",
       "  <tbody>\n",
       "    <tr>\n",
       "      <th>0</th>\n",
       "      <td>s1</td>\n",
       "      <td>movie</td>\n",
       "      <td>the grand seduction</td>\n",
       "      <td>don mckellar</td>\n",
       "      <td>brendan gleeson, taylor kitsch, gordon pinsent</td>\n",
       "      <td>canada</td>\n",
       "      <td>march 30, 2021</td>\n",
       "      <td>2014</td>\n",
       "      <td>g</td>\n",
       "      <td>113 min</td>\n",
       "      <td>comedy, drama</td>\n",
       "      <td>a small fishing village must procure a local d...</td>\n",
       "      <td>99</td>\n",
       "      <td>as1</td>\n",
       "      <td>2021-03-30 00:00:00</td>\n",
       "      <td>113</td>\n",
       "      <td>min</td>\n",
       "    </tr>\n",
       "    <tr>\n",
       "      <th>1</th>\n",
       "      <td>s2</td>\n",
       "      <td>movie</td>\n",
       "      <td>take care good night</td>\n",
       "      <td>girish joshi</td>\n",
       "      <td>mahesh manjrekar, abhay mahajan, sachin khedekar</td>\n",
       "      <td>india</td>\n",
       "      <td>march 30, 2021</td>\n",
       "      <td>2018</td>\n",
       "      <td>13+</td>\n",
       "      <td>110 min</td>\n",
       "      <td>drama, international</td>\n",
       "      <td>a metro family decides to fight a cyber crimin...</td>\n",
       "      <td>37</td>\n",
       "      <td>as2</td>\n",
       "      <td>2021-03-30 00:00:00</td>\n",
       "      <td>110</td>\n",
       "      <td>min</td>\n",
       "    </tr>\n",
       "    <tr>\n",
       "      <th>2</th>\n",
       "      <td>s3</td>\n",
       "      <td>movie</td>\n",
       "      <td>secrets of deception</td>\n",
       "      <td>josh webber</td>\n",
       "      <td>tom sizemore, lorenzo lamas, robert lasardo, r...</td>\n",
       "      <td>united states</td>\n",
       "      <td>march 30, 2021</td>\n",
       "      <td>2017</td>\n",
       "      <td>g</td>\n",
       "      <td>74 min</td>\n",
       "      <td>action, drama, suspense</td>\n",
       "      <td>after a man discovers his wife is cheating on ...</td>\n",
       "      <td>20</td>\n",
       "      <td>as3</td>\n",
       "      <td>2021-03-30 00:00:00</td>\n",
       "      <td>74</td>\n",
       "      <td>min</td>\n",
       "    </tr>\n",
       "  </tbody>\n",
       "</table>\n",
       "</div>"
      ],
      "text/plain": [
       "  show_id   type                 title      director  \\\n",
       "0      s1  movie   the grand seduction  don mckellar   \n",
       "1      s2  movie  take care good night  girish joshi   \n",
       "2      s3  movie  secrets of deception   josh webber   \n",
       "\n",
       "                                                cast        country  \\\n",
       "0     brendan gleeson, taylor kitsch, gordon pinsent         canada   \n",
       "1   mahesh manjrekar, abhay mahajan, sachin khedekar          india   \n",
       "2  tom sizemore, lorenzo lamas, robert lasardo, r...  united states   \n",
       "\n",
       "       date_added  release_year rating duration                listed_in  \\\n",
       "0  march 30, 2021          2014      g  113 min            comedy, drama   \n",
       "1  march 30, 2021          2018    13+  110 min     drama, international   \n",
       "2  march 30, 2021          2017      g   74 min  action, drama, suspense   \n",
       "\n",
       "                                         description  score   id  \\\n",
       "0  a small fishing village must procure a local d...     99  as1   \n",
       "1  a metro family decides to fight a cyber crimin...     37  as2   \n",
       "2  after a man discovers his wife is cheating on ...     20  as3   \n",
       "\n",
       "                  date  duration_int duration_type  \n",
       "0  2021-03-30 00:00:00           113           min  \n",
       "1  2021-03-30 00:00:00           110           min  \n",
       "2  2021-03-30 00:00:00            74           min  "
      ]
     },
     "execution_count": 120,
     "metadata": {},
     "output_type": "execute_result"
    }
   ],
   "source": [
    "amazon.head(3)"
   ]
  },
  {
   "cell_type": "code",
   "execution_count": 121,
   "metadata": {},
   "outputs": [],
   "source": [
    "netflix_df = pd.read_csv('../PI01-Data-Engineering/PI_01/netflix.csv')"
   ]
  },
  {
   "cell_type": "code",
   "execution_count": 122,
   "metadata": {},
   "outputs": [],
   "source": [
    "# 1.- get_word_count('netflix', 'love')\n",
    "netflix = netflix_df['title'].str.count('love').sum()"
   ]
  },
  {
   "cell_type": "code",
   "execution_count": 123,
   "metadata": {},
   "outputs": [
    {
     "name": "stdout",
     "output_type": "stream",
     "text": [
      "<class 'numpy.int64'>\n",
      "198\n"
     ]
    }
   ],
   "source": [
    "print(type(netflix))\n",
    "print(netflix)"
   ]
  },
  {
   "cell_type": "code",
   "execution_count": 124,
   "metadata": {},
   "outputs": [],
   "source": [
    "res = dict(platform='netflix', cantidad=str(netflix))"
   ]
  },
  {
   "cell_type": "code",
   "execution_count": 125,
   "metadata": {},
   "outputs": [
    {
     "data": {
      "text/plain": [
       "{'platform': 'netflix', 'cantidad': '198'}"
      ]
     },
     "execution_count": 125,
     "metadata": {},
     "output_type": "execute_result"
    }
   ],
   "source": [
    "res"
   ]
  },
  {
   "cell_type": "code",
   "execution_count": 127,
   "metadata": {},
   "outputs": [
    {
     "name": "stdout",
     "output_type": "stream",
     "text": [
      "25\n"
     ]
    }
   ],
   "source": [
    "# 2.- get_score_count('netflix', 85, 2010)\n",
    "print(len(netflix_df[(netflix_df['score'] > 85) & (netflix_df['release_year'] == 2010)]))"
   ]
  },
  {
   "cell_type": "code",
   "execution_count": 128,
   "metadata": {},
   "outputs": [],
   "source": [
    "# 3.- get_second_score('amazon')\n",
    "amazon_df = pd.read_csv('../PI01-Data-Engineering/PI_01/amazon.csv')"
   ]
  },
  {
   "cell_type": "code",
   "execution_count": 133,
   "metadata": {},
   "outputs": [
    {
     "data": {
      "text/plain": [
       "'15-minute cardio core 8.0 workout (with weights)'"
      ]
     },
     "execution_count": 133,
     "metadata": {},
     "output_type": "execute_result"
    }
   ],
   "source": [
    "amazon.sort_values(by=['score', 'title'], ascending=[False, True]).iloc[1]['title']"
   ]
  },
  {
   "cell_type": "code",
   "execution_count": 149,
   "metadata": {},
   "outputs": [
    {
     "data": {
      "text/html": [
       "<div>\n",
       "<style scoped>\n",
       "    .dataframe tbody tr th:only-of-type {\n",
       "        vertical-align: middle;\n",
       "    }\n",
       "\n",
       "    .dataframe tbody tr th {\n",
       "        vertical-align: top;\n",
       "    }\n",
       "\n",
       "    .dataframe thead th {\n",
       "        text-align: right;\n",
       "    }\n",
       "</style>\n",
       "<table border=\"1\" class=\"dataframe\">\n",
       "  <thead>\n",
       "    <tr style=\"text-align: right;\">\n",
       "      <th></th>\n",
       "      <th>show_id</th>\n",
       "      <th>type</th>\n",
       "      <th>title</th>\n",
       "      <th>director</th>\n",
       "      <th>cast</th>\n",
       "      <th>country</th>\n",
       "      <th>date_added</th>\n",
       "      <th>release_year</th>\n",
       "      <th>rating</th>\n",
       "      <th>duration</th>\n",
       "      <th>listed_in</th>\n",
       "      <th>description</th>\n",
       "      <th>score</th>\n",
       "      <th>id</th>\n",
       "      <th>date</th>\n",
       "      <th>duration_int</th>\n",
       "      <th>duration_type</th>\n",
       "    </tr>\n",
       "  </thead>\n",
       "  <tbody>\n",
       "    <tr>\n",
       "      <th>7922</th>\n",
       "      <td>s7923</td>\n",
       "      <td>movie</td>\n",
       "      <td>sairat</td>\n",
       "      <td>nagraj manjule</td>\n",
       "      <td>rinku rajguru, akash thosar, arbaz shaikh, tan...</td>\n",
       "      <td>india</td>\n",
       "      <td>april 1, 2018</td>\n",
       "      <td>2016</td>\n",
       "      <td>tv-14</td>\n",
       "      <td>173 min</td>\n",
       "      <td>dramas, international movies, romantic movies</td>\n",
       "      <td>when two college students – a rich man’s daugh...</td>\n",
       "      <td>41</td>\n",
       "      <td>ns7923</td>\n",
       "      <td>2018-04-01 00:00:00</td>\n",
       "      <td>173</td>\n",
       "      <td>min</td>\n",
       "    </tr>\n",
       "  </tbody>\n",
       "</table>\n",
       "</div>"
      ],
      "text/plain": [
       "     show_id   type   title        director  \\\n",
       "7922   s7923  movie  sairat  nagraj manjule   \n",
       "\n",
       "                                                   cast country  \\\n",
       "7922  rinku rajguru, akash thosar, arbaz shaikh, tan...   india   \n",
       "\n",
       "         date_added  release_year rating duration  \\\n",
       "7922  april 1, 2018          2016  tv-14  173 min   \n",
       "\n",
       "                                          listed_in  \\\n",
       "7922  dramas, international movies, romantic movies   \n",
       "\n",
       "                                            description  score      id  \\\n",
       "7922  when two college students – a rich man’s daugh...     41  ns7923   \n",
       "\n",
       "                     date  duration_int duration_type  \n",
       "7922  2018-04-01 00:00:00           173           min  "
      ]
     },
     "execution_count": 149,
     "metadata": {},
     "output_type": "execute_result"
    }
   ],
   "source": [
    "# 4.- get_longest('netflix', 'min', '2016')\n",
    "netflix_df[(netflix_df['duration_type'] == 'min') & (netflix_df['release_year'] == 2016)].sort_values(by=['duration_int'], ascending=False).head(1)"
   ]
  },
  {
   "cell_type": "code",
   "execution_count": 140,
   "metadata": {},
   "outputs": [
    {
     "data": {
      "text/html": [
       "<div>\n",
       "<style scoped>\n",
       "    .dataframe tbody tr th:only-of-type {\n",
       "        vertical-align: middle;\n",
       "    }\n",
       "\n",
       "    .dataframe tbody tr th {\n",
       "        vertical-align: top;\n",
       "    }\n",
       "\n",
       "    .dataframe thead th {\n",
       "        text-align: right;\n",
       "    }\n",
       "</style>\n",
       "<table border=\"1\" class=\"dataframe\">\n",
       "  <thead>\n",
       "    <tr style=\"text-align: right;\">\n",
       "      <th></th>\n",
       "      <th>show_id</th>\n",
       "      <th>type</th>\n",
       "      <th>title</th>\n",
       "      <th>director</th>\n",
       "      <th>cast</th>\n",
       "      <th>country</th>\n",
       "      <th>date_added</th>\n",
       "      <th>release_year</th>\n",
       "      <th>rating</th>\n",
       "      <th>duration</th>\n",
       "      <th>listed_in</th>\n",
       "      <th>description</th>\n",
       "      <th>score</th>\n",
       "      <th>id</th>\n",
       "      <th>date</th>\n",
       "      <th>duration_int</th>\n",
       "      <th>duration_type</th>\n",
       "    </tr>\n",
       "  </thead>\n",
       "  <tbody>\n",
       "    <tr>\n",
       "      <th>7922</th>\n",
       "      <td>s7923</td>\n",
       "      <td>movie</td>\n",
       "      <td>sairat</td>\n",
       "      <td>nagraj manjule</td>\n",
       "      <td>rinku rajguru, akash thosar, arbaz shaikh, tan...</td>\n",
       "      <td>india</td>\n",
       "      <td>april 1, 2018</td>\n",
       "      <td>2016</td>\n",
       "      <td>tv-14</td>\n",
       "      <td>173 min</td>\n",
       "      <td>dramas, international movies, romantic movies</td>\n",
       "      <td>when two college students – a rich man’s daugh...</td>\n",
       "      <td>41</td>\n",
       "      <td>ns7923</td>\n",
       "      <td>2018-04-01 00:00:00</td>\n",
       "      <td>173</td>\n",
       "      <td>min</td>\n",
       "    </tr>\n",
       "  </tbody>\n",
       "</table>\n",
       "</div>"
      ],
      "text/plain": [
       "     show_id   type   title        director  \\\n",
       "7922   s7923  movie  sairat  nagraj manjule   \n",
       "\n",
       "                                                   cast country  \\\n",
       "7922  rinku rajguru, akash thosar, arbaz shaikh, tan...   india   \n",
       "\n",
       "         date_added  release_year rating duration  \\\n",
       "7922  april 1, 2018          2016  tv-14  173 min   \n",
       "\n",
       "                                          listed_in  \\\n",
       "7922  dramas, international movies, romantic movies   \n",
       "\n",
       "                                            description  score      id  \\\n",
       "7922  when two college students – a rich man’s daugh...     41  ns7923   \n",
       "\n",
       "                     date  duration_int duration_type  \n",
       "7922  2018-04-01 00:00:00           173           min  "
      ]
     },
     "execution_count": 140,
     "metadata": {},
     "output_type": "execute_result"
    }
   ],
   "source": []
  },
  {
   "cell_type": "code",
   "execution_count": 141,
   "metadata": {},
   "outputs": [
    {
     "data": {
      "text/html": [
       "<div>\n",
       "<style scoped>\n",
       "    .dataframe tbody tr th:only-of-type {\n",
       "        vertical-align: middle;\n",
       "    }\n",
       "\n",
       "    .dataframe tbody tr th {\n",
       "        vertical-align: top;\n",
       "    }\n",
       "\n",
       "    .dataframe thead th {\n",
       "        text-align: right;\n",
       "    }\n",
       "</style>\n",
       "<table border=\"1\" class=\"dataframe\">\n",
       "  <thead>\n",
       "    <tr style=\"text-align: right;\">\n",
       "      <th></th>\n",
       "      <th>title</th>\n",
       "      <th>duration</th>\n",
       "      <th>duration_type</th>\n",
       "    </tr>\n",
       "  </thead>\n",
       "  <tbody>\n",
       "    <tr>\n",
       "      <th>7922</th>\n",
       "      <td>sairat</td>\n",
       "      <td>173 min</td>\n",
       "      <td>min</td>\n",
       "    </tr>\n",
       "  </tbody>\n",
       "</table>\n",
       "</div>"
      ],
      "text/plain": [
       "       title duration duration_type\n",
       "7922  sairat  173 min           min"
      ]
     },
     "execution_count": 141,
     "metadata": {},
     "output_type": "execute_result"
    }
   ],
   "source": [
    "netflix_df[(netflix_df['duration_type'] == 'min') & (netflix_df['release_year'] == 2016)].sort_values(by=['duration_int'], ascending=False)[['title', 'duration','duration_type']].head(1)"
   ]
  },
  {
   "cell_type": "code",
   "execution_count": 145,
   "metadata": {},
   "outputs": [],
   "source": [
    "# 5.- get_rating_count('18+')\n",
    "\n",
    "# Concat all df dataframes\n",
    "path_df_clean = '../PI01-Data-Engineering/PI_01/'\n",
    "dir_list_clean = os.listdir(path_df_clean)"
   ]
  },
  {
   "cell_type": "code",
   "execution_count": 146,
   "metadata": {},
   "outputs": [
    {
     "name": "stdout",
     "output_type": "stream",
     "text": [
      "Succesful load of amazon.csv\n",
      "Succesful load of hulu.csv\n",
      "Succesful load of disney.csv\n",
      "Succesful load of netflix.csv\n"
     ]
    }
   ],
   "source": [
    "concat_df(path_df_clean, dir_list_clean)"
   ]
  },
  {
   "cell_type": "code",
   "execution_count": 147,
   "metadata": {},
   "outputs": [
    {
     "data": {
      "text/plain": [
       "1243"
      ]
     },
     "execution_count": 147,
     "metadata": {},
     "output_type": "execute_result"
    }
   ],
   "source": [
    "df_total = pd.read_csv('../PI01-Data-Engineering/PI_01/df_full.csv')\n",
    "\n",
    "(df_total['rating'] == '18+').sum()"
   ]
  }
 ],
 "metadata": {
  "kernelspec": {
   "display_name": "HENRY",
   "language": "python",
   "name": "python3"
  },
  "language_info": {
   "codemirror_mode": {
    "name": "ipython",
    "version": 3
   },
   "file_extension": ".py",
   "mimetype": "text/x-python",
   "name": "python",
   "nbconvert_exporter": "python",
   "pygments_lexer": "ipython3",
   "version": "3.10.4"
  },
  "orig_nbformat": 4,
  "vscode": {
   "interpreter": {
    "hash": "f9c2ac6ec8556444f18a145029099a21456cef2bb13460e864a633c88cbb07d4"
   }
  }
 },
 "nbformat": 4,
 "nbformat_minor": 2
}
